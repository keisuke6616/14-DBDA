{
 "cells": [
  {
   "cell_type": "code",
   "execution_count": 1,
   "metadata": {
    "colab": {
     "autoexec": {
      "startup": false,
      "wait_interval": 0
     }
    },
    "colab_type": "code",
    "id": "N0U-cXqiQzLP"
   },
   "outputs": [],
   "source": [
    "import numpy as np\n",
    "import numpy.linalg as la\n",
    "\n",
    "from scipy.stats import norm\n",
    "import matplotlib.pyplot as plt\n",
    "\n",
    "import time"
   ]
  },
  {
   "cell_type": "markdown",
   "metadata": {
    "colab_type": "text",
    "id": "_ZwggEegQ7UD"
   },
   "source": [
    "# Section 2.3"
   ]
  },
  {
   "cell_type": "markdown",
   "metadata": {
    "colab_type": "text",
    "id": "X5eghwEiRC8c"
   },
   "source": [
    "## Figure 4"
   ]
  },
  {
   "cell_type": "markdown",
   "metadata": {
    "colab_type": "text",
    "id": "oolk-uomRIOn"
   },
   "source": [
    "${\\boldsymbol \\mu}_1 = {\\bf 0}$, ${\\boldsymbol \\mu}_2 = (1, \\ldots, 1, 0, \\ldots, 0)^T$ whose first $\\lceil tr({\\bf \\Sigma}_1^2) \\rceil$ elements are 1.\n",
    "\n",
    "${\\bf \\Sigma}_1 = {\\bf B} (0.3^{|i - j|^{1/3}}) {\\bf B}$ and ${\\bf \\Sigma}_2 = 1.2 {\\bf B} (0.3^{|i - j|^{1/3}}) {\\bf B}$\n",
    "\n",
    "$(n_1, n_2) = (\\log_2p, 2 \\log_2p), p = 2^s, s = 3, \\ldots, 14,$"
   ]
  },
  {
   "cell_type": "code",
   "execution_count": 2,
   "metadata": {
    "colab": {
     "autoexec": {
      "startup": false,
      "wait_interval": 0
     },
     "base_uri": "https://localhost:8080/",
     "height": 1205
    },
    "colab_type": "code",
    "executionInfo": {
     "elapsed": 204115,
     "status": "error",
     "timestamp": 1532591550600,
     "user": {
      "displayName": "keisuke konishi",
      "photoUrl": "https://lh3.googleusercontent.com/a/default-user=s128",
      "userId": "104198052839017698001"
     },
     "user_tz": -540
    },
    "id": "NI4pawUERToW",
    "outputId": "ceeecd3e-4377-464f-ed0f-8a832ba5baaa"
   },
   "outputs": [
    {
     "name": "stdout",
     "output_type": "stream",
     "text": [
      "Dimension:8\n",
      "Calculating...\n",
      "Result\n",
      "(class1, class2) = (1446.0, 1410.0)\n",
      "Finished\n",
      "\n",
      "Dimension:16\n",
      "Calculating...\n",
      "Result\n",
      "(class1, class2) = (1453.0, 1432.0)\n",
      "Finished\n",
      "\n",
      "Dimension:32\n",
      "Calculating...\n",
      "Result\n",
      "(class1, class2) = (1524.0, 1489.0)\n",
      "Finished\n",
      "\n",
      "Dimension:64\n",
      "Calculating...\n",
      "Result\n",
      "(class1, class2) = (1566.0, 1514.0)\n",
      "Finished\n",
      "\n",
      "Dimension:128\n",
      "Calculating...\n",
      "Result\n",
      "(class1, class2) = (1627.0, 1553.0)\n",
      "Finished\n",
      "\n",
      "Dimension:256\n",
      "Calculating...\n",
      "Result\n",
      "(class1, class2) = (1610.0, 1597.0)\n",
      "Finished\n",
      "\n",
      "Dimension:512\n",
      "Calculating...\n"
     ]
    },
    {
     "ename": "KeyboardInterrupt",
     "evalue": "",
     "output_type": "error",
     "traceback": [
      "\u001b[0;31m---------------------------------------------------------------------------\u001b[0m",
      "\u001b[0;31mKeyboardInterrupt\u001b[0m                         Traceback (most recent call last)",
      "\u001b[0;32m<ipython-input-2-669f8dc2ce0f>\u001b[0m in \u001b[0;36m<module>\u001b[0;34m()\u001b[0m\n\u001b[1;32m     50\u001b[0m       \u001b[0mZ\u001b[0m \u001b[0;34m=\u001b[0m \u001b[0mnp\u001b[0m\u001b[0;34m.\u001b[0m\u001b[0marray\u001b[0m\u001b[0;34m(\u001b[0m\u001b[0;34m[\u001b[0m\u001b[0mP\u001b[0m\u001b[0;34m[\u001b[0m\u001b[0mi\u001b[0m\u001b[0;34m]\u001b[0m \u001b[0;34m*\u001b[0m \u001b[0mnp\u001b[0m\u001b[0;34m.\u001b[0m\u001b[0mrandom\u001b[0m\u001b[0;34m.\u001b[0m\u001b[0mnormal\u001b[0m\u001b[0;34m(\u001b[0m\u001b[0;36m0\u001b[0m\u001b[0;34m,\u001b[0m \u001b[0;36m1\u001b[0m\u001b[0;34m,\u001b[0m \u001b[0mp\u001b[0m\u001b[0;34m)\u001b[0m \u001b[0;32mfor\u001b[0m \u001b[0mj\u001b[0m \u001b[0;32min\u001b[0m \u001b[0mrange\u001b[0m\u001b[0;34m(\u001b[0m\u001b[0mn\u001b[0m\u001b[0;34m[\u001b[0m\u001b[0mi\u001b[0m\u001b[0;34m]\u001b[0m\u001b[0;34m)\u001b[0m\u001b[0;34m]\u001b[0m\u001b[0;34m)\u001b[0m\u001b[0;34m\u001b[0m\u001b[0m\n\u001b[1;32m     51\u001b[0m       \u001b[0mX\u001b[0m \u001b[0;34m=\u001b[0m \u001b[0mnp\u001b[0m\u001b[0;34m.\u001b[0m\u001b[0mdot\u001b[0m\u001b[0;34m(\u001b[0m\u001b[0mZ\u001b[0m\u001b[0;34m,\u001b[0m \u001b[0mQ\u001b[0m\u001b[0;34m[\u001b[0m\u001b[0mi\u001b[0m\u001b[0;34m]\u001b[0m\u001b[0;34m)\u001b[0m \u001b[0;34m+\u001b[0m \u001b[0mmu\u001b[0m\u001b[0;34m[\u001b[0m\u001b[0mi\u001b[0m\u001b[0;34m]\u001b[0m\u001b[0;34m\u001b[0m\u001b[0m\n\u001b[0;32m---> 52\u001b[0;31m       \u001b[0mcov\u001b[0m \u001b[0;34m=\u001b[0m \u001b[0mnp\u001b[0m\u001b[0;34m.\u001b[0m\u001b[0mcov\u001b[0m\u001b[0;34m(\u001b[0m\u001b[0mX\u001b[0m\u001b[0;34m,\u001b[0m \u001b[0mrowvar\u001b[0m\u001b[0;34m=\u001b[0m\u001b[0;32mFalse\u001b[0m\u001b[0;34m)\u001b[0m\u001b[0;34m\u001b[0m\u001b[0m\n\u001b[0m\u001b[1;32m     53\u001b[0m \u001b[0;34m\u001b[0m\u001b[0m\n\u001b[1;32m     54\u001b[0m       \u001b[0mmean\u001b[0m\u001b[0;34m.\u001b[0m\u001b[0mappend\u001b[0m\u001b[0;34m(\u001b[0m\u001b[0mnp\u001b[0m\u001b[0;34m.\u001b[0m\u001b[0mmean\u001b[0m\u001b[0;34m(\u001b[0m\u001b[0mX\u001b[0m\u001b[0;34m,\u001b[0m \u001b[0maxis\u001b[0m\u001b[0;34m=\u001b[0m\u001b[0;36m0\u001b[0m\u001b[0;34m)\u001b[0m\u001b[0;34m)\u001b[0m\u001b[0;34m\u001b[0m\u001b[0m\n",
      "\u001b[0;32m~/anaconda3/lib/python3.6/site-packages/numpy/lib/function_base.py\u001b[0m in \u001b[0;36mcov\u001b[0;34m(m, y, rowvar, bias, ddof, fweights, aweights)\u001b[0m\n\u001b[1;32m   3106\u001b[0m     \u001b[0;32melse\u001b[0m\u001b[0;34m:\u001b[0m\u001b[0;34m\u001b[0m\u001b[0m\n\u001b[1;32m   3107\u001b[0m         \u001b[0mX_T\u001b[0m \u001b[0;34m=\u001b[0m \u001b[0;34m(\u001b[0m\u001b[0mX\u001b[0m\u001b[0;34m*\u001b[0m\u001b[0mw\u001b[0m\u001b[0;34m)\u001b[0m\u001b[0;34m.\u001b[0m\u001b[0mT\u001b[0m\u001b[0;34m\u001b[0m\u001b[0m\n\u001b[0;32m-> 3108\u001b[0;31m     \u001b[0mc\u001b[0m \u001b[0;34m=\u001b[0m \u001b[0mdot\u001b[0m\u001b[0;34m(\u001b[0m\u001b[0mX\u001b[0m\u001b[0;34m,\u001b[0m \u001b[0mX_T\u001b[0m\u001b[0;34m.\u001b[0m\u001b[0mconj\u001b[0m\u001b[0;34m(\u001b[0m\u001b[0;34m)\u001b[0m\u001b[0;34m)\u001b[0m\u001b[0;34m\u001b[0m\u001b[0m\n\u001b[0m\u001b[1;32m   3109\u001b[0m     \u001b[0mc\u001b[0m \u001b[0;34m*=\u001b[0m \u001b[0;36m1.\u001b[0m \u001b[0;34m/\u001b[0m \u001b[0mnp\u001b[0m\u001b[0;34m.\u001b[0m\u001b[0mfloat64\u001b[0m\u001b[0;34m(\u001b[0m\u001b[0mfact\u001b[0m\u001b[0;34m)\u001b[0m\u001b[0;34m\u001b[0m\u001b[0m\n\u001b[1;32m   3110\u001b[0m     \u001b[0;32mreturn\u001b[0m \u001b[0mc\u001b[0m\u001b[0;34m.\u001b[0m\u001b[0msqueeze\u001b[0m\u001b[0;34m(\u001b[0m\u001b[0;34m)\u001b[0m\u001b[0;34m\u001b[0m\u001b[0m\n",
      "\u001b[0;31mKeyboardInterrupt\u001b[0m: "
     ]
    }
   ],
   "source": [
    "np.random.seed(0)\n",
    "t1 = time.time()\n",
    "\n",
    "c = [1, 1.2]\n",
    "N_class = 2\n",
    "N_dim = 12\n",
    "iter = 2000\n",
    "result = np.zeros((N_dim, N_class))\n",
    "line = np.zeros((N_dim, N_class))\n",
    "\n",
    "for s in range(N_dim):\n",
    "  p = 2**(s + 3)\n",
    "  print('Dimension:{}'.format(p))\n",
    "  print('Calculating...')\n",
    "  \n",
    "  n = [int(np.log2(p)), int(2 * np.log2(p))]\n",
    "\n",
    "  #create Sigma\n",
    "  Sigma, P, Q = [], [], []\n",
    "  S = np.zeros((p, p))\n",
    "  for i in range(p):\n",
    "    for j in range(p):\n",
    "      S[i, j] = (1/2 + (i+1) / (p+1))**(1/2) * 0.3**(np.abs(i - j)**(1/3)) * (1/2 + (j + 1) / (p + 1))**(1/2)\n",
    "      \n",
    "  for i in range(N_class):\n",
    "    Sigma.append(c[i] * S)\n",
    "    value, vec = la.eig(Sigma[i])\n",
    "    P.append(np.sqrt(value)); Q.append(vec.T)\n",
    "    \n",
    "  #create mu\n",
    "  mu = []\n",
    "  N_one = int(np.ceil(np.trace(np.dot(Sigma[0], Sigma[0]))**(1/2)))\n",
    "  mu.append(np.zeros(p))\n",
    "  mu.append(np.r_[np.ones(N_one), np.zeros(p - N_one)]) \n",
    "  \n",
    "  #create delta and Delta\n",
    "  Delta = la.norm(mu[0] - mu[1])**2  \n",
    "  delta = []\n",
    "  for i in range(N_class):\n",
    "    delta.append((np.trace(np.dot(Sigma[i], Sigma[i])) / n[i] + np.trace(np.dot(Sigma[i], Sigma[-(i+1)])) / n[-(i+1)] \\\n",
    "                 + np.trace(np.dot(Sigma[0], Sigma[0])) / (2 * n[0] * (n[0] - 1)) + np.trace(np.dot(Sigma[1], Sigma[1])) / (2 * n[1] * (n[1] - 1)))**(1/2))\n",
    "    \n",
    "    line[s, i] = norm.cdf(- Delta / (2 * delta[i]), loc=0, scale=1)\n",
    "\n",
    "    \n",
    "    \n",
    "  for l in range(iter):\n",
    "    mean, trS =[], []\n",
    "    x = []\n",
    "    for i in range(N_class):\n",
    "      Z = np.array([P[i] * np.random.normal(0, 1, p) for j in range(n[i])])\n",
    "      X = np.dot(Z, Q[i]) + mu[i]\n",
    "      cov = np.cov(X, rowvar=False)\n",
    "\n",
    "      mean.append(np.mean(X, axis=0))\n",
    "      trS.append(np.trace(cov))\n",
    "\n",
    "      # creat new data\n",
    "      z = P[i] * np.random.normal(0, 1, p)\n",
    "      x.append(np.dot(z, Q[i]) + mu[i])\n",
    "\n",
    "\n",
    "    # DBDA\n",
    "    for i in range(N_class):\n",
    "      classifier = np.dot(x[i] - (mean[0] + mean[1]) / 2, mean[1] - mean[0]) - trS[0] / (2 * n[0]) + trS[1] / (2 * n[1])\n",
    "      if (-1)**i * classifier < 0:\n",
    "        result[s, i] += 1\n",
    "        \n",
    "        \n",
    "  print('Result')\n",
    "  print('(class1, class2) = ({}, {})'.format(result[s, 0], result[s, 1]))\n",
    "  print('Finished')\n",
    "  print('')\n",
    "\n",
    "\n",
    "t2 = time.time() - t1\n",
    "print('Calculation time:{: .3f}'.format(t2))\n"
   ]
  },
  {
   "cell_type": "code",
   "execution_count": 3,
   "metadata": {
    "colab": {
     "autoexec": {
      "startup": false,
      "wait_interval": 0
     },
     "base_uri": "https://localhost:8080/",
     "height": 342
    },
    "colab_type": "code",
    "executionInfo": {
     "elapsed": 1181,
     "status": "ok",
     "timestamp": 1532591554327,
     "user": {
      "displayName": "keisuke konishi",
      "photoUrl": "https://lh3.googleusercontent.com/a/default-user=s128",
      "userId": "104198052839017698001"
     },
     "user_tz": -540
    },
    "id": "bhjUe5cRTjQv",
    "outputId": "3bfff9b4-1340-437f-c74d-dbd20e9d5b68"
   },
   "outputs": [
    {
     "data": {
      "image/png": "[encoded data removed]",
      "text/plain": [
       "<matplotlib.figure.Figure at 0x1a13bbc1d0>"
      ]
     },
     "metadata": {},
     "output_type": "display_data"
    }
   ],
   "source": [
    "error = np.zeros((2, N_dim))\n",
    "for i in range(N_dim):\n",
    "  error[0, i] = 1 - result[i, 0] / iter\n",
    "  error[1, i] = 1 - result[i, 1] / iter\n",
    "  \n",
    "pl = np.arange(3, 15, 1)\n",
    "ylabel_list = ['$\\overline{e}(2|1)$', '$\\overline{e}(1|2)$']\n",
    "\n",
    "plt.figure(figsize=(15, 5))\n",
    "for i in range(2):\n",
    "  plt.subplot(1, 2, i+1)\n",
    "  plt.plot(pl, error[i], 'o:', color='black')\n",
    "  plt.plot(pl, line.T[i])\n",
    "  plt.ylim(-0.02, 0.5)\n",
    "  plt.ylabel(ylabel_list[i])\n",
    "  plt.xlabel('$Log_2p$')\n"
   ]
  },
  {
   "cell_type": "markdown",
   "metadata": {
    "colab_type": "text",
    "id": "u6-C5knpg7ID"
   },
   "source": [
    "## Figure 5"
   ]
  },
  {
   "cell_type": "code",
   "execution_count": null,
   "metadata": {
    "colab": {
     "autoexec": {
      "startup": false,
      "wait_interval": 0
     },
     "base_uri": "https://localhost:8080/",
     "height": 170
    },
    "colab_type": "code",
    "executionInfo": {
     "elapsed": 123047,
     "status": "ok",
     "timestamp": 1532593719111,
     "user": {
      "displayName": "keisuke konishi",
      "photoUrl": "https://lh3.googleusercontent.com/a/default-user=s128",
      "userId": "104198052839017698001"
     },
     "user_tz": -540
    },
    "id": "aVkKSI0Hh4CS",
    "outputId": "3fbc9052-c573-430a-bb33-1156312a25d1"
   },
   "outputs": [
    {
     "name": "stdout",
     "output_type": "stream",
     "text": [
      "Dimension:32\n",
      "Calculating...\n",
      "Finished\n",
      "\n",
      "Dimension:1024\n",
      "Calculating...\n"
     ]
    }
   ],
   "source": [
    "np.random.seed(0)\n",
    "t1 = time.time()\n",
    "\n",
    "c = [1, 1.2]\n",
    "N_class = 2\n",
    "dim = [32, 1024]\n",
    "N_dim = len(dim)\n",
    "index = [0, 1]\n",
    "iter = 2000\n",
    "result = np.zeros((N_dim,  N_class, iter))\n",
    "Delta = np.zeros(N_dim)\n",
    "delta = np.zeros((N_dim, N_class))\n",
    "\n",
    "for p, pc in zip(dim, index):\n",
    "  print('Dimension:{}'.format(p))\n",
    "  print('Calculating...')\n",
    "  \n",
    "  n = [int(np.log2(p)), int(2 * np.log2(p))]\n",
    "\n",
    "  #create Sigma\n",
    "  Sigma, P, Q = [], [], []\n",
    "  S = np.zeros((p, p))\n",
    "  for i in range(p):\n",
    "    for j in range(p):\n",
    "      S[i, j] = (1/2 + (i+1) / (p+1))**(1/2) * 0.3**(np.abs(i - j)**(1/3)) * (1/2 + (j + 1) / (p + 1))**(1/2)\n",
    "      \n",
    "  for i in range(N_class):\n",
    "    Sigma.append(c[i] * S)\n",
    "    value, vec = la.eig(Sigma[i])\n",
    "    P.append(np.sqrt(value)); Q.append(vec.T)\n",
    "    \n",
    "  #create mu\n",
    "  mu = []\n",
    "  N_one = int(np.ceil(np.trace(np.dot(Sigma[0], Sigma[0]))**(1/2)))\n",
    "  mu.append(np.zeros(p))\n",
    "  mu.append(np.r_[np.ones(N_one), np.zeros(p - N_one)]) \n",
    "  \n",
    "  #create delta and Delta\n",
    "  Delta[pc] = la.norm(mu[0] - mu[1])**2  \n",
    "  for i in range(N_class):\n",
    "    delta[pc, i] = (np.trace(np.dot(Sigma[i], Sigma[i])) / n[i] + np.trace(np.dot(Sigma[i], Sigma[-(i+1)])) / n[-(i+1)] \\\n",
    "                 + np.trace(np.dot(Sigma[0], Sigma[0])) / (2 * n[0] * (n[0] - 1)) + np.trace(np.dot(Sigma[1], Sigma[1])) / (2 * n[1] * (n[1] - 1)))**(1/2)\n",
    "\n",
    "  \n",
    "  \n",
    "  for l in range(iter):\n",
    "    mean, trS =[], []\n",
    "    x = []\n",
    "    for i in range(N_class):\n",
    "      Z = np.array([P[i] * np.random.normal(0, 1, p) for j in range(n[i])])\n",
    "      X = np.dot(Z, Q[i]) + mu[i]\n",
    "      cov = np.cov(X, rowvar=False)\n",
    "\n",
    "      mean.append(np.mean(X, axis=0))\n",
    "      trS.append(np.trace(cov))\n",
    "\n",
    "      # creat new data\n",
    "      z = P[i] * np.random.normal(0, 1, p)\n",
    "      x.append(np.dot(z, Q[i]) + mu[i])\n",
    "\n",
    "\n",
    "    # DBDA\n",
    "    for i in range(N_class):\n",
    "      result[pc, i, l] = np.dot(x[i] - (mean[0] + mean[1]) / 2, mean[1] - mean[0]) - trS[0] / (2 * n[0]) + trS[1] / (2 * n[1])\n",
    "        \n",
    "  print('Finished')\n",
    "  print('')\n",
    "\n",
    "\n",
    "t2 = time.time() - t1\n",
    "print('Calculation time:{: .3f}'.format(t2))\n"
   ]
  },
  {
   "cell_type": "code",
   "execution_count": 99,
   "metadata": {
    "colab": {
     "autoexec": {
      "startup": false,
      "wait_interval": 0
     },
     "base_uri": "https://localhost:8080/",
     "height": 320
    },
    "colab_type": "code",
    "executionInfo": {
     "elapsed": 2068,
     "status": "ok",
     "timestamp": 1532593723446,
     "user": {
      "displayName": "keisuke konishi",
      "photoUrl": "https://lh3.googleusercontent.com/a/default-user=s128",
      "userId": "104198052839017698001"
     },
     "user_tz": -540
    },
    "id": "u7Qkkj8jk1Ou",
    "outputId": "53323c74-9a89-41e0-fe38-f9621ac12fbc"
   },
   "outputs": [
    {
     "data": {
      "image/png": "[encoded data removed]",
      "text/plain": [
       "<matplotlib.figure.Figure at 0x7fc2dfcbc208>"
      ]
     },
     "metadata": {
      "tags": []
     },
     "output_type": "display_data"
    }
   ],
   "source": [
    "x = np.linspace(-5, 5, 100)\n",
    "\n",
    "plt.figure(figsize=(15, 5))\n",
    "color_list = ['blue', 'orange']\n",
    "\n",
    "for i in range(2):\n",
    "  PDF = []\n",
    "  plt.subplot(1, 2, i+1)\n",
    "  for j in range(2):\n",
    "    PDF.append(norm.pdf(x, loc=(-1)**(j+1) * Delta[i]/(2*delta[i, j]), scale=1)) \n",
    "  \n",
    "    plt.plot(x, PDF[j], color=color_list[j])\n",
    "    plt.hist(result[i, j] / delta[i, j], bins=40, color=color_list[j], alpha=.5, normed=True, ec='black')\n",
    "  \n",
    "  \n",
    "\n"
   ]
  },
  {
   "cell_type": "code",
   "execution_count": null,
   "metadata": {
    "colab": {
     "autoexec": {
      "startup": false,
      "wait_interval": 0
     }
    },
    "colab_type": "code",
    "id": "Lca4buf7rl6_"
   },
   "outputs": [],
   "source": []
  }
 ],
 "metadata": {
  "accelerator": "GPU",
  "colab": {
   "collapsed_sections": [],
   "default_view": {},
   "name": "Untitled0.ipynb",
   "provenance": [],
   "toc_visible": true,
   "version": "0.3.2",
   "views": {}
  },
  "kernelspec": {
   "display_name": "Python 3",
   "language": "python",
   "name": "python3"
  },
  "language_info": {
   "codemirror_mode": {
    "name": "ipython",
    "version": 3
   },
   "file_extension": ".py",
   "mimetype": "text/x-python",
   "name": "python",
   "nbconvert_exporter": "python",
   "pygments_lexer": "ipython3",
   "version": "3.6.4"
  }
 },
 "nbformat": 4,
 "nbformat_minor": 2
}
