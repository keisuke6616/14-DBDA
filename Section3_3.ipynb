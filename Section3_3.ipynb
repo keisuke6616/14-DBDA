{
  "nbformat": 4,
  "nbformat_minor": 0,
  "metadata": {
    "colab": {
      "name": "Section3.3.ipynb",
      "version": "0.3.2",
      "provenance": [],
      "collapsed_sections": [],
      "toc_visible": true,
      "include_colab_link": true
    },
    "kernelspec": {
      "name": "python3",
      "display_name": "Python 3"
    },
    "accelerator": "GPU"
  },
  "cells": [
    {
      "cell_type": "markdown",
      "metadata": {
        "id": "view-in-github",
        "colab_type": "text"
      },
      "source": [
        "[View in Colaboratory](https://colab.research.google.com/github/keisuke6616/14-DBDA/blob/master/Section3_3.ipynb)"
      ]
    },
    {
      "metadata": {
        "id": "7dGC8U4BOKts",
        "colab_type": "code",
        "colab": {}
      },
      "cell_type": "code",
      "source": [
        "import numpy as np\n",
        "import numpy.linalg as la\n",
        "from scipy.stats import norm\n",
        "\n",
        "import pandas as pd\n",
        "\n",
        "import matplotlib.pyplot as plt\n",
        "\n",
        "import time"
      ],
      "execution_count": 0,
      "outputs": []
    },
    {
      "metadata": {
        "id": "ki5XIVBGOX0H",
        "colab_type": "text"
      },
      "cell_type": "markdown",
      "source": [
        "# Section3.3"
      ]
    },
    {
      "metadata": {
        "id": "80waPg02hI0c",
        "colab_type": "text"
      },
      "cell_type": "markdown",
      "source": [
        "## $(\\alpha, \\beta) = (0.1, 0.1)$"
      ]
    },
    {
      "metadata": {
        "id": "TdaV0j_ZOkCE",
        "colab_type": "text"
      },
      "cell_type": "markdown",
      "source": [
        "$p=400$ and $p=1200$ \n",
        "\n"
      ]
    },
    {
      "metadata": {
        "id": "2zZI7iE8O68M",
        "colab_type": "code",
        "colab": {
          "base_uri": "https://localhost:8080/",
          "height": 68
        },
        "outputId": "8173432b-7cf0-498f-fc63-a81c5d4ed72c"
      },
      "cell_type": "code",
      "source": [
        "np.random.seed(42)\n",
        "t1 = time.time()\n",
        "\n",
        "N_class = 2\n",
        "dim = [400, 1200]\n",
        "N_dim = len(dim)\n",
        "\n",
        "result = np.zeros((N_dim, N_class, 6))\n",
        "m = np.zeros((N_dim, N_class))\n",
        "\n",
        "index = [0, 1]\n",
        "iter = 2000\n",
        "c = [0.3, 0.4]\n",
        "ab = [0.1, 0.1]\n",
        "\n",
        "for p, pc in zip(dim, index):\n",
        "    \n",
        "    print('Dimension : {}'.format(p))\n",
        "    mu = []\n",
        "    mu.append(np.r_[np.ones(30), np.zeros(p - 30)])\n",
        "    mu.append(np.zeros(p))\n",
        "    Delta_L = la.norm(mu[0] - mu[1])**2\n",
        "\n",
        "    Sigma, P, Q = [], [], []\n",
        "    z, trSgm = [], []\n",
        "    for k in range(N_class):\n",
        "        S = np.zeros((p, p))\n",
        "        for i in range(p):\n",
        "            for j in range(p):\n",
        "                S[i, j] = (1/2 + (i+1) / (p+1))**(1/2) * c[k]**(np.abs(i - j)**(1/3)) * (1/2 + (j + 1) / (p + 1))**(1/2)\n",
        "        Sigma.append(S)\n",
        "        value, vec = la.eig(Sigma[k])\n",
        "        P.append(np.sqrt(value)); Q.append(vec.T)\n",
        "\n",
        "        z.append(norm.isf(ab[k], loc=0, scale=1))\n",
        "        trSgm.append(np.trace(np.dot(Sigma[k], Sigma[k])))\n",
        "\n",
        "    z_sum = np.sum(z)**2\n",
        "    C = np.zeros(N_class)\n",
        "    for k in range(N_class):\n",
        "        C[k] = z_sum * np.max(trSgm)**(1/2) / (Delta_L**2) * trSgm[k]**(1/4) * np.sum(np.array(trSgm)**(1/4)) + 1\n",
        "        m[pc, k] = int(np.ceil(0.5 * (C[k] - 1)) + 1)\n",
        "\n",
        "\n",
        "    N = [[], []]\n",
        "    e = np.zeros(N_class)\n",
        "    for l in range(iter):\n",
        "        x, mean, trS = [], [], []\n",
        "        W = []\n",
        "        for k in range(N_class):\n",
        "            Z = np.array([P[k] * np.random.normal(0, 1, p) for j in range(int(m[pc, k]))])    \n",
        "            X = np.dot(Z, Q[k]) + mu[k]\n",
        "            W.append(ECDM(X))\n",
        "\n",
        "            cov = np.cov(X, rowvar=False)\n",
        "            trS.append(np.trace(cov))\n",
        "            mean.append(np.mean(X, axis=0))\n",
        "\n",
        "            #create new data\n",
        "            y = P[k] * np.random.normal(0, 1, p)\n",
        "            x.append(np.dot(y, Q[k]) + mu[k])\n",
        "\n",
        "\n",
        "        for k in range(N_class):\n",
        "            w = np.ceil(z_sum * np.max(W)**(1/2) / (Delta_L**2) * W[k]**(1/4) * np.sum(np.array(W)**(1/4))) + 1\n",
        "            N[k].append(np.max([m[pc, k], w]))\n",
        "\n",
        "            classifier = np.dot(x[k] - (mean[0] + mean[1]) / 2, mean[1] - mean[0]) - trS[0] / (2 * m[pc, 0]) + trS[1] / (2 * m[pc, 1])\n",
        "            gamma = Delta_L * (z[0] - z[1]) / (2 * np.sum(z))\n",
        "            if (-1)**k * (classifier - gamma) < 0:\n",
        "                e[k] += 1\n",
        "\n",
        "    N_mean, N_var = [], []\n",
        "    for k in range(N_class):\n",
        "        N_mean.append(np.mean(N[k]))\n",
        "        N_var.append(float(np.cov(N[k])))\n",
        "\n",
        "\n",
        "    for k in range(N_class):\n",
        "        result[pc, k, 0] = np.round(C[k], 2)\n",
        "        result[pc, k, 1] = np.round(N_mean[k], 2)\n",
        "        result[pc, k, 2] = np.round(N_mean[k] - C[k], 2)\n",
        "        result[pc, k, 3] = np.round(N_var[k], 2)\n",
        "        result[pc, k, 4] = np.round(1 - e[k] / iter, 3)\n",
        "        result[pc, k, 5] = np.round(np.sqrt((1 - e[k] / iter) * (1 - (1 - e[k] / iter)) / iter), 5)\n",
        "\n",
        "t2 = time.time() - t1\n",
        "print('Calculation time : {}'.format(t2))"
      ],
      "execution_count": 418,
      "outputs": [
        {
          "output_type": "stream",
          "text": [
            "Dimension : 400\n",
            "Dimension : 1200\n",
            "Calculation time : 227.63151097297668\n"
          ],
          "name": "stdout"
        }
      ]
    },
    {
      "metadata": {
        "id": "HqmrJRtoalcP",
        "colab_type": "code",
        "colab": {
          "base_uri": "https://localhost:8080/",
          "height": 145
        },
        "outputId": "d9640af0-d5f9-416d-8a5b-b8a7b8d60bb7"
      },
      "cell_type": "code",
      "source": [
        "print('When (a, b) = (0.1, 0.1)')\n",
        "\n",
        "print('p=400; (m1, m2) = ({}, {})'.format(int(m[0, 0]), int(m[0, 1])))\n",
        "pd.DataFrame(result[0], columns=['A', 'B', 'C', 'D', 'E', 'F'], index=[1, 2])"
      ],
      "execution_count": 428,
      "outputs": [
        {
          "output_type": "stream",
          "text": [
            "When (a, b) = (0.1, 0.1)\n",
            "p=400; (m1, m2) = (8, 9)\n"
          ],
          "name": "stdout"
        },
        {
          "output_type": "execute_result",
          "data": {
            "text/html": [
              "<div>\n",
              "<style scoped>\n",
              "    .dataframe tbody tr th:only-of-type {\n",
              "        vertical-align: middle;\n",
              "    }\n",
              "\n",
              "    .dataframe tbody tr th {\n",
              "        vertical-align: top;\n",
              "    }\n",
              "\n",
              "    .dataframe thead th {\n",
              "        text-align: right;\n",
              "    }\n",
              "</style>\n",
              "<table border=\"1\" class=\"dataframe\">\n",
              "  <thead>\n",
              "    <tr style=\"text-align: right;\">\n",
              "      <th></th>\n",
              "      <th>A</th>\n",
              "      <th>B</th>\n",
              "      <th>C</th>\n",
              "      <th>D</th>\n",
              "      <th>E</th>\n",
              "      <th>F</th>\n",
              "    </tr>\n",
              "  </thead>\n",
              "  <tbody>\n",
              "    <tr>\n",
              "      <th>1</th>\n",
              "      <td>14.43</td>\n",
              "      <td>14.88</td>\n",
              "      <td>0.46</td>\n",
              "      <td>15.84</td>\n",
              "      <td>0.176</td>\n",
              "      <td>0.00851</td>\n",
              "    </tr>\n",
              "    <tr>\n",
              "      <th>2</th>\n",
              "      <td>16.10</td>\n",
              "      <td>16.71</td>\n",
              "      <td>0.61</td>\n",
              "      <td>29.24</td>\n",
              "      <td>0.207</td>\n",
              "      <td>0.00905</td>\n",
              "    </tr>\n",
              "  </tbody>\n",
              "</table>\n",
              "</div>"
            ],
            "text/plain": [
              "       A      B     C      D      E        F\n",
              "1  14.43  14.88  0.46  15.84  0.176  0.00851\n",
              "2  16.10  16.71  0.61  29.24  0.207  0.00905"
            ]
          },
          "metadata": {
            "tags": []
          },
          "execution_count": 428
        }
      ]
    },
    {
      "metadata": {
        "id": "_TBcWseMPpuI",
        "colab_type": "code",
        "colab": {
          "base_uri": "https://localhost:8080/",
          "height": 145
        },
        "outputId": "3f849a82-ec55-426d-cd72-8bfaf498b85d"
      },
      "cell_type": "code",
      "source": [
        "print('When (a, b) = (0.1, 0.1)')\n",
        "\n",
        "print('p=1200; (m1, m2) = ({}, {})'.format(int(m[1, 0]), int(m[1, 1])))\n",
        "pd.DataFrame(result[1], columns=['A', 'B', 'C', 'D', 'E', 'F'], index=[1, 2])"
      ],
      "execution_count": 430,
      "outputs": [
        {
          "output_type": "stream",
          "text": [
            "When (a, b) = (0.1, 0.1)\n",
            "p=1200; (m1, m2) = (22, 24)\n"
          ],
          "name": "stdout"
        },
        {
          "output_type": "execute_result",
          "data": {
            "text/html": [
              "<div>\n",
              "<style scoped>\n",
              "    .dataframe tbody tr th:only-of-type {\n",
              "        vertical-align: middle;\n",
              "    }\n",
              "\n",
              "    .dataframe tbody tr th {\n",
              "        vertical-align: top;\n",
              "    }\n",
              "\n",
              "    .dataframe thead th {\n",
              "        text-align: right;\n",
              "    }\n",
              "</style>\n",
              "<table border=\"1\" class=\"dataframe\">\n",
              "  <thead>\n",
              "    <tr style=\"text-align: right;\">\n",
              "      <th></th>\n",
              "      <th>A</th>\n",
              "      <th>B</th>\n",
              "      <th>C</th>\n",
              "      <th>D</th>\n",
              "      <th>E</th>\n",
              "      <th>F</th>\n",
              "    </tr>\n",
              "  </thead>\n",
              "  <tbody>\n",
              "    <tr>\n",
              "      <th>1</th>\n",
              "      <td>41.72</td>\n",
              "      <td>42.10</td>\n",
              "      <td>0.38</td>\n",
              "      <td>16.75</td>\n",
              "      <td>0.180</td>\n",
              "      <td>0.00858</td>\n",
              "    </tr>\n",
              "    <tr>\n",
              "      <th>2</th>\n",
              "      <td>46.92</td>\n",
              "      <td>47.42</td>\n",
              "      <td>0.50</td>\n",
              "      <td>32.52</td>\n",
              "      <td>0.221</td>\n",
              "      <td>0.00927</td>\n",
              "    </tr>\n",
              "  </tbody>\n",
              "</table>\n",
              "</div>"
            ],
            "text/plain": [
              "       A      B     C      D      E        F\n",
              "1  41.72  42.10  0.38  16.75  0.180  0.00858\n",
              "2  46.92  47.42  0.50  32.52  0.221  0.00927"
            ]
          },
          "metadata": {
            "tags": []
          },
          "execution_count": 430
        }
      ]
    },
    {
      "metadata": {
        "id": "haWuXDDgPp_y",
        "colab_type": "text"
      },
      "cell_type": "markdown",
      "source": [
        "## $(\\alpha, \\beta) = (0.05, 0.15)$"
      ]
    },
    {
      "metadata": {
        "id": "4zbAHvXmhgXr",
        "colab_type": "code",
        "colab": {
          "base_uri": "https://localhost:8080/",
          "height": 68
        },
        "outputId": "e2bbdf27-880b-49a8-ebae-88b3348881f6"
      },
      "cell_type": "code",
      "source": [
        "np.random.seed(42)\n",
        "t1 = time.time()\n",
        "\n",
        "N_class = 2\n",
        "dim = [400, 1200]\n",
        "N_dim = len(dim)\n",
        "\n",
        "result = np.zeros((N_dim, N_class, 6))\n",
        "m = np.zeros((N_dim, N_class))\n",
        "\n",
        "index = [0, 1]\n",
        "iter = 2000\n",
        "c = [0.3, 0.4]\n",
        "ab = [0.05, 0.15]\n",
        "\n",
        "for p, pc in zip(dim, index):\n",
        "    \n",
        "    print('Dimension : {}'.format(p))\n",
        "    mu = []\n",
        "    mu.append(np.r_[np.ones(30), np.zeros(p - 30)])\n",
        "    mu.append(np.zeros(p))\n",
        "    Delta_L = la.norm(mu[0] - mu[1])**2\n",
        "\n",
        "    Sigma, P, Q = [], [], []\n",
        "    z, trSgm = [], []\n",
        "    for k in range(N_class):\n",
        "        S = np.zeros((p, p))\n",
        "        for i in range(p):\n",
        "            for j in range(p):\n",
        "                S[i, j] = (1/2 + (i+1) / (p+1))**(1/2) * c[k]**(np.abs(i - j)**(1/3)) * (1/2 + (j + 1) / (p + 1))**(1/2)\n",
        "        Sigma.append(S)\n",
        "        value, vec = la.eig(Sigma[k])\n",
        "        P.append(np.sqrt(value)); Q.append(vec.T)\n",
        "\n",
        "        z.append(norm.isf(ab[k], loc=0, scale=1))\n",
        "        trSgm.append(np.trace(np.dot(Sigma[k], Sigma[k])))\n",
        "\n",
        "    z_sum = np.sum(z)**2\n",
        "    C = np.zeros(N_class)\n",
        "    for k in range(N_class):\n",
        "        C[k] = z_sum * np.max(trSgm)**(1/2) / (Delta_L**2) * trSgm[k]**(1/4) * np.sum(np.array(trSgm)**(1/4)) + 1\n",
        "        m[pc, k] = int(np.ceil(0.5 * (C[k] - 1)) + 1)\n",
        "\n",
        "\n",
        "    N = [[], []]\n",
        "    e = np.zeros(N_class)\n",
        "    for l in range(iter):\n",
        "        x, mean, trS = [], [], []\n",
        "        W = []\n",
        "        for k in range(N_class):\n",
        "            Z = np.array([P[k] * np.random.normal(0, 1, p) for j in range(int(m[pc, k]))])    \n",
        "            X = np.dot(Z, Q[k]) + mu[k]\n",
        "            W.append(ECDM(X))\n",
        "\n",
        "            cov = np.cov(X, rowvar=False)\n",
        "            trS.append(np.trace(cov))\n",
        "            mean.append(np.mean(X, axis=0))\n",
        "\n",
        "            #create new data\n",
        "            y = P[k] * np.random.normal(0, 1, p)\n",
        "            x.append(np.dot(y, Q[k]) + mu[k])\n",
        "\n",
        "\n",
        "        for k in range(N_class):\n",
        "            w = np.ceil(z_sum * np.max(W)**(1/2) / (Delta_L**2) * W[k]**(1/4) * np.sum(np.array(W)**(1/4))) + 1\n",
        "            N[k].append(np.max([m[pc, k], w]))\n",
        "\n",
        "            classifier = np.dot(x[k] - (mean[0] + mean[1]) / 2, mean[1] - mean[0]) - trS[0] / (2 * m[pc, 0]) + trS[1] / (2 * m[pc, 1])\n",
        "            gamma = Delta_L * (z[0] - z[1]) / (2 * np.sum(z))\n",
        "            if (-1)**k * (classifier - gamma) < 0:\n",
        "                e[k] += 1\n",
        "\n",
        "    N_mean, N_var = [], []\n",
        "    for k in range(N_class):\n",
        "        N_mean.append(np.mean(N[k]))\n",
        "        N_var.append(float(np.cov(N[k])))\n",
        "\n",
        "\n",
        "    for k in range(N_class):\n",
        "        result[pc, k, 0] = np.round(C[k], 2)\n",
        "        result[pc, k, 1] = np.round(N_mean[k], 2)\n",
        "        result[pc, k, 2] = np.round(N_mean[k] - C[k], 2)\n",
        "        result[pc, k, 3] = np.round(N_var[k], 2)\n",
        "        result[pc, k, 4] = np.round(1 - e[k] / iter, 3)\n",
        "        result[pc, k, 5] = np.round(np.sqrt((1 - e[k] / iter) * (1 - (1 - e[k] / iter)) / iter), 5)\n",
        "\n",
        "t2 = time.time() - t1\n",
        "print('Calculation time : {}'.format(t2))"
      ],
      "execution_count": 431,
      "outputs": [
        {
          "output_type": "stream",
          "text": [
            "Dimension : 400\n",
            "Dimension : 1200\n",
            "Calculation time : 241.7327914237976\n"
          ],
          "name": "stdout"
        }
      ]
    },
    {
      "metadata": {
        "id": "2cmD6UPahkxc",
        "colab_type": "code",
        "colab": {
          "base_uri": "https://localhost:8080/",
          "height": 145
        },
        "outputId": "496774df-40e7-429c-a9b8-414ca7d5dc80"
      },
      "cell_type": "code",
      "source": [
        "print('When (a, b) = (0.1, 0.1)')\n",
        "\n",
        "print('p=400; (m1, m2) = ({}, {})'.format(int(m[0, 0]), int(m[0, 1])))\n",
        "pd.DataFrame(result[0], columns=['A', 'B', 'C', 'D', 'E', 'F'], index=[1, 2])"
      ],
      "execution_count": 432,
      "outputs": [
        {
          "output_type": "stream",
          "text": [
            "When (a, b) = (0.1, 0.1)\n",
            "p=400; (m1, m2) = (9, 10)\n"
          ],
          "name": "stdout"
        },
        {
          "output_type": "execute_result",
          "data": {
            "text/html": [
              "<div>\n",
              "<style scoped>\n",
              "    .dataframe tbody tr th:only-of-type {\n",
              "        vertical-align: middle;\n",
              "    }\n",
              "\n",
              "    .dataframe tbody tr th {\n",
              "        vertical-align: top;\n",
              "    }\n",
              "\n",
              "    .dataframe thead th {\n",
              "        text-align: right;\n",
              "    }\n",
              "</style>\n",
              "<table border=\"1\" class=\"dataframe\">\n",
              "  <thead>\n",
              "    <tr style=\"text-align: right;\">\n",
              "      <th></th>\n",
              "      <th>A</th>\n",
              "      <th>B</th>\n",
              "      <th>C</th>\n",
              "      <th>D</th>\n",
              "      <th>E</th>\n",
              "      <th>F</th>\n",
              "    </tr>\n",
              "  </thead>\n",
              "  <tbody>\n",
              "    <tr>\n",
              "      <th>1</th>\n",
              "      <td>15.69</td>\n",
              "      <td>16.11</td>\n",
              "      <td>0.42</td>\n",
              "      <td>14.91</td>\n",
              "      <td>0.125</td>\n",
              "      <td>0.00738</td>\n",
              "    </tr>\n",
              "    <tr>\n",
              "      <th>2</th>\n",
              "      <td>17.53</td>\n",
              "      <td>18.09</td>\n",
              "      <td>0.56</td>\n",
              "      <td>29.85</td>\n",
              "      <td>0.246</td>\n",
              "      <td>0.00963</td>\n",
              "    </tr>\n",
              "  </tbody>\n",
              "</table>\n",
              "</div>"
            ],
            "text/plain": [
              "       A      B     C      D      E        F\n",
              "1  15.69  16.11  0.42  14.91  0.125  0.00738\n",
              "2  17.53  18.09  0.56  29.85  0.246  0.00963"
            ]
          },
          "metadata": {
            "tags": []
          },
          "execution_count": 432
        }
      ]
    },
    {
      "metadata": {
        "id": "ECaEosonhpuM",
        "colab_type": "code",
        "colab": {
          "base_uri": "https://localhost:8080/",
          "height": 134
        },
        "outputId": "6394ec2e-3412-47a4-813d-036b2dee66d5"
      },
      "cell_type": "code",
      "source": [
        "print('When (a, b) = (0.1, 0.1)')\n",
        "\n",
        "print('p=1200; (m1, m2) = ({}, {})'.format(int(m[1, 0]), int(m[1, 1]))\n",
        "pd.DataFrame(result[1], columns=['A', 'B', 'C', 'D', 'E', 'F'], index=[1, 2])"
      ],
      "execution_count": 433,
      "outputs": [
        {
          "output_type": "error",
          "ename": "SyntaxError",
          "evalue": "ignored",
          "traceback": [
            "\u001b[0;36m  File \u001b[0;32m\"<ipython-input-433-3b584bf0c8c0>\"\u001b[0;36m, line \u001b[0;32m4\u001b[0m\n\u001b[0;31m    pd.DataFrame(result[1], columns=['A', 'B', 'C', 'D', 'E', 'F'], index=[1, 2])\u001b[0m\n\u001b[0m     ^\u001b[0m\n\u001b[0;31mSyntaxError\u001b[0m\u001b[0;31m:\u001b[0m invalid syntax\n"
          ]
        }
      ]
    },
    {
      "metadata": {
        "id": "ruvzRE487oLd",
        "colab_type": "text"
      },
      "cell_type": "markdown",
      "source": [
        "# Define ECDM"
      ]
    },
    {
      "metadata": {
        "id": "feL494lE2sRw",
        "colab_type": "code",
        "colab": {}
      },
      "cell_type": "code",
      "source": [
        "def ECDM(X):\n",
        "    N, p = X.shape\n",
        "    \n",
        "    n = []\n",
        "    n.append(int(np.ceil(N / 2)))\n",
        "    n.append(N - n[0])\n",
        "    \n",
        "    K = [i for i in range(3, 2*N)]\n",
        "    index =  [i for i in range(len(K))]\n",
        "\n",
        "    \n",
        "    V = [[], []]\n",
        "    Y = np.zeros((2, len(K), p))\n",
        "    for k, pc in zip(K, index):\n",
        "        dv = int(np.floor(k / 2))\n",
        "\n",
        "        if dv < n[0]:\n",
        "            V[0].append([i for i in range(dv)] + [i for i in range(dv + n[1], N)])   \n",
        "        else:\n",
        "            V[0].append([i for i in range(dv - n[0], dv)])\n",
        "\n",
        "        if dv <= n[0]:\n",
        "            V[1].append([i for i in range(dv, dv + n[1])])\n",
        "        else:\n",
        "            V[1].append([i for i in range(dv - n[0])] + [i for i in range(dv, N)])\n",
        "           \n",
        "        for i in range(2):\n",
        "            Y[i, pc] = np.sum(X[V[i][pc]], axis=0) / n[i]\n",
        "            \n",
        "    w = 0\n",
        "    for j in range(N):\n",
        "        for i in range(j):\n",
        "            w += np.dot(X[i] - Y[0][i + j - 1], X[j] - Y[1][i + j - 1]) ** 2\n",
        "\n",
        "    u =  n[0] * n[1] / ((n[0] - 1) * (n[1] - 1))\n",
        "    W = 2 * u / (N * (N - 1)) * w\n",
        "\n",
        "    return W\n",
        "\n",
        "\n",
        "\n",
        "    "
      ],
      "execution_count": 0,
      "outputs": []
    },
    {
      "metadata": {
        "id": "9AD7WGnuWLUZ",
        "colab_type": "code",
        "colab": {}
      },
      "cell_type": "code",
      "source": [
        ""
      ],
      "execution_count": 0,
      "outputs": []
    }
  ]
}